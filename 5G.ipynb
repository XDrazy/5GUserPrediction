{
 "cells": [
  {
   "cell_type": "code",
   "execution_count": 1,
   "id": "64cffbcd",
   "metadata": {},
   "outputs": [],
   "source": [
    "from pandas import read_csv\n",
    "import pandas as pd\n",
    "from sklearn import datasets\n",
    "from pandas.plotting import scatter_matrix\n",
    "from matplotlib import pyplot\n",
    "from sklearn.model_selection import train_test_split\n",
    "from sklearn.model_selection import KFold\n",
    "from sklearn.model_selection import cross_val_score\n",
    "from sklearn.metrics import classification_report\n",
    "from sklearn.metrics import confusion_matrix\n",
    "from sklearn.metrics import accuracy_score\n",
    "from sklearn.linear_model import LogisticRegression\n",
    "from sklearn.tree import DecisionTreeClassifier\n",
    "from sklearn.discriminant_analysis import LinearDiscriminantAnalysis\n",
    "from sklearn.neighbors import KNeighborsClassifier\n",
    "from sklearn.naive_bayes import GaussianNB\n",
    "from sklearn.svm import SVC\n",
    "from sklearn.preprocessing import LabelEncoder\n",
    "from sklearn.linear_model import LogisticRegression\n",
    "\n",
    "import numpy as np\n",
    "import matplotlib.pyplot as plt\n",
    "import seaborn as sns #要注意的是一旦导入了seaborn，matplotlib的默认作图风格就会被覆盖成seaborn的格式\n",
    "\n",
    "import numpy as np"
   ]
  },
  {
   "cell_type": "code",
   "execution_count": 2,
   "id": "7226d7b7",
   "metadata": {},
   "outputs": [],
   "source": [
    "from sklearn.tree import DecisionTreeClassifier\n",
    "from sklearn.ensemble import RandomForestClassifier\n",
    "from sklearn.linear_model import LogisticRegression"
   ]
  },
  {
   "cell_type": "code",
   "execution_count": 3,
   "id": "27dab5f0",
   "metadata": {},
   "outputs": [
    {
     "data": {
      "text/html": [
       "<div>\n",
       "<style scoped>\n",
       "    .dataframe tbody tr th:only-of-type {\n",
       "        vertical-align: middle;\n",
       "    }\n",
       "\n",
       "    .dataframe tbody tr th {\n",
       "        vertical-align: top;\n",
       "    }\n",
       "\n",
       "    .dataframe thead th {\n",
       "        text-align: right;\n",
       "    }\n",
       "</style>\n",
       "<table border=\"1\" class=\"dataframe\">\n",
       "  <thead>\n",
       "    <tr style=\"text-align: right;\">\n",
       "      <th></th>\n",
       "      <th>id</th>\n",
       "      <th>cat_0</th>\n",
       "      <th>cat_1</th>\n",
       "      <th>cat_2</th>\n",
       "      <th>cat_3</th>\n",
       "      <th>cat_4</th>\n",
       "      <th>cat_5</th>\n",
       "      <th>cat_6</th>\n",
       "      <th>cat_7</th>\n",
       "      <th>cat_8</th>\n",
       "      <th>...</th>\n",
       "      <th>num_29</th>\n",
       "      <th>num_30</th>\n",
       "      <th>num_31</th>\n",
       "      <th>num_32</th>\n",
       "      <th>num_33</th>\n",
       "      <th>num_34</th>\n",
       "      <th>num_35</th>\n",
       "      <th>num_36</th>\n",
       "      <th>num_37</th>\n",
       "      <th>target</th>\n",
       "    </tr>\n",
       "  </thead>\n",
       "  <tbody>\n",
       "    <tr>\n",
       "      <th>0</th>\n",
       "      <td>0</td>\n",
       "      <td>2</td>\n",
       "      <td>103</td>\n",
       "      <td>9</td>\n",
       "      <td>4</td>\n",
       "      <td>3</td>\n",
       "      <td>1</td>\n",
       "      <td>3</td>\n",
       "      <td>4</td>\n",
       "      <td>4</td>\n",
       "      <td>...</td>\n",
       "      <td>2.000000</td>\n",
       "      <td>3.0</td>\n",
       "      <td>0.000000</td>\n",
       "      <td>0.0</td>\n",
       "      <td>0.0</td>\n",
       "      <td>0.0</td>\n",
       "      <td>0.0</td>\n",
       "      <td>0.089758</td>\n",
       "      <td>0.000129</td>\n",
       "      <td>0.0</td>\n",
       "    </tr>\n",
       "    <tr>\n",
       "      <th>1</th>\n",
       "      <td>1</td>\n",
       "      <td>0</td>\n",
       "      <td>177</td>\n",
       "      <td>6</td>\n",
       "      <td>2</td>\n",
       "      <td>2</td>\n",
       "      <td>1</td>\n",
       "      <td>2</td>\n",
       "      <td>4</td>\n",
       "      <td>4</td>\n",
       "      <td>...</td>\n",
       "      <td>0.968742</td>\n",
       "      <td>0.0</td>\n",
       "      <td>0.000000</td>\n",
       "      <td>0.0</td>\n",
       "      <td>0.0</td>\n",
       "      <td>0.0</td>\n",
       "      <td>0.0</td>\n",
       "      <td>0.000000</td>\n",
       "      <td>0.000312</td>\n",
       "      <td>0.0</td>\n",
       "    </tr>\n",
       "    <tr>\n",
       "      <th>2</th>\n",
       "      <td>2</td>\n",
       "      <td>7</td>\n",
       "      <td>70</td>\n",
       "      <td>7</td>\n",
       "      <td>4</td>\n",
       "      <td>5</td>\n",
       "      <td>0</td>\n",
       "      <td>3</td>\n",
       "      <td>4</td>\n",
       "      <td>4</td>\n",
       "      <td>...</td>\n",
       "      <td>0.000000</td>\n",
       "      <td>0.0</td>\n",
       "      <td>0.000000</td>\n",
       "      <td>0.0</td>\n",
       "      <td>0.0</td>\n",
       "      <td>0.0</td>\n",
       "      <td>0.0</td>\n",
       "      <td>0.000000</td>\n",
       "      <td>0.000164</td>\n",
       "      <td>0.0</td>\n",
       "    </tr>\n",
       "    <tr>\n",
       "      <th>3</th>\n",
       "      <td>3</td>\n",
       "      <td>11</td>\n",
       "      <td>166</td>\n",
       "      <td>7</td>\n",
       "      <td>2</td>\n",
       "      <td>3</td>\n",
       "      <td>1</td>\n",
       "      <td>1</td>\n",
       "      <td>1</td>\n",
       "      <td>2</td>\n",
       "      <td>...</td>\n",
       "      <td>0.021729</td>\n",
       "      <td>0.0</td>\n",
       "      <td>0.021729</td>\n",
       "      <td>0.0</td>\n",
       "      <td>0.0</td>\n",
       "      <td>0.0</td>\n",
       "      <td>0.0</td>\n",
       "      <td>0.000081</td>\n",
       "      <td>0.000205</td>\n",
       "      <td>0.0</td>\n",
       "    </tr>\n",
       "    <tr>\n",
       "      <th>4</th>\n",
       "      <td>4</td>\n",
       "      <td>0</td>\n",
       "      <td>178</td>\n",
       "      <td>10</td>\n",
       "      <td>4</td>\n",
       "      <td>3</td>\n",
       "      <td>0</td>\n",
       "      <td>4</td>\n",
       "      <td>4</td>\n",
       "      <td>4</td>\n",
       "      <td>...</td>\n",
       "      <td>30.000000</td>\n",
       "      <td>30.0</td>\n",
       "      <td>0.000000</td>\n",
       "      <td>0.0</td>\n",
       "      <td>0.0</td>\n",
       "      <td>0.0</td>\n",
       "      <td>0.0</td>\n",
       "      <td>6127.621124</td>\n",
       "      <td>0.000298</td>\n",
       "      <td>0.0</td>\n",
       "    </tr>\n",
       "  </tbody>\n",
       "</table>\n",
       "<p>5 rows × 60 columns</p>\n",
       "</div>"
      ],
      "text/plain": [
       "   id  cat_0  cat_1  cat_2  cat_3  cat_4  cat_5  cat_6  cat_7  cat_8  ...  \\\n",
       "0   0      2    103      9      4      3      1      3      4      4  ...   \n",
       "1   1      0    177      6      2      2      1      2      4      4  ...   \n",
       "2   2      7     70      7      4      5      0      3      4      4  ...   \n",
       "3   3     11    166      7      2      3      1      1      1      2  ...   \n",
       "4   4      0    178     10      4      3      0      4      4      4  ...   \n",
       "\n",
       "      num_29  num_30    num_31  num_32  num_33  num_34  num_35       num_36  \\\n",
       "0   2.000000     3.0  0.000000     0.0     0.0     0.0     0.0     0.089758   \n",
       "1   0.968742     0.0  0.000000     0.0     0.0     0.0     0.0     0.000000   \n",
       "2   0.000000     0.0  0.000000     0.0     0.0     0.0     0.0     0.000000   \n",
       "3   0.021729     0.0  0.021729     0.0     0.0     0.0     0.0     0.000081   \n",
       "4  30.000000    30.0  0.000000     0.0     0.0     0.0     0.0  6127.621124   \n",
       "\n",
       "     num_37  target  \n",
       "0  0.000129     0.0  \n",
       "1  0.000312     0.0  \n",
       "2  0.000164     0.0  \n",
       "3  0.000205     0.0  \n",
       "4  0.000298     0.0  \n",
       "\n",
       "[5 rows x 60 columns]"
      ]
     },
     "execution_count": 3,
     "metadata": {},
     "output_type": "execute_result"
    }
   ],
   "source": [
    "data = pd.read_csv(r'E:\\Project\\train.csv') # 如果用pandas打不开数据，可以使用记事本打开把编码格式改成utf-8另存\n",
    "data.head()"
   ]
  },
  {
   "cell_type": "code",
   "execution_count": 4,
   "id": "a3b540a1",
   "metadata": {},
   "outputs": [
    {
     "name": "stdout",
     "output_type": "stream",
     "text": [
      "<class 'pandas.core.frame.DataFrame'>\n",
      "RangeIndex: 800000 entries, 0 to 799999\n",
      "Data columns (total 60 columns):\n",
      " #   Column  Non-Null Count   Dtype  \n",
      "---  ------  --------------   -----  \n",
      " 0   id      800000 non-null  int64  \n",
      " 1   cat_0   800000 non-null  int64  \n",
      " 2   cat_1   800000 non-null  int64  \n",
      " 3   cat_2   800000 non-null  int64  \n",
      " 4   cat_3   800000 non-null  int64  \n",
      " 5   cat_4   800000 non-null  int64  \n",
      " 6   cat_5   800000 non-null  int64  \n",
      " 7   cat_6   800000 non-null  int64  \n",
      " 8   cat_7   800000 non-null  int64  \n",
      " 9   cat_8   800000 non-null  int64  \n",
      " 10  cat_9   800000 non-null  int64  \n",
      " 11  cat_10  800000 non-null  int64  \n",
      " 12  cat_11  800000 non-null  int64  \n",
      " 13  cat_12  800000 non-null  float64\n",
      " 14  cat_13  800000 non-null  int64  \n",
      " 15  cat_14  800000 non-null  int64  \n",
      " 16  cat_15  800000 non-null  int64  \n",
      " 17  cat_16  800000 non-null  int64  \n",
      " 18  cat_17  800000 non-null  int64  \n",
      " 19  cat_18  800000 non-null  int64  \n",
      " 20  cat_19  800000 non-null  int64  \n",
      " 21  num_0   800000 non-null  int64  \n",
      " 22  num_1   800000 non-null  float64\n",
      " 23  num_2   800000 non-null  float64\n",
      " 24  num_3   800000 non-null  float64\n",
      " 25  num_4   800000 non-null  float64\n",
      " 26  num_5   800000 non-null  int64  \n",
      " 27  num_6   800000 non-null  float64\n",
      " 28  num_7   800000 non-null  float64\n",
      " 29  num_8   800000 non-null  float64\n",
      " 30  num_9   800000 non-null  float64\n",
      " 31  num_10  800000 non-null  float64\n",
      " 32  num_11  800000 non-null  float64\n",
      " 33  num_12  800000 non-null  float64\n",
      " 34  num_13  800000 non-null  float64\n",
      " 35  num_14  800000 non-null  float64\n",
      " 36  num_15  800000 non-null  float64\n",
      " 37  num_16  800000 non-null  float64\n",
      " 38  num_17  800000 non-null  float64\n",
      " 39  num_18  800000 non-null  float64\n",
      " 40  num_19  800000 non-null  float64\n",
      " 41  num_20  800000 non-null  float64\n",
      " 42  num_21  800000 non-null  float64\n",
      " 43  num_22  800000 non-null  float64\n",
      " 44  num_23  800000 non-null  float64\n",
      " 45  num_24  800000 non-null  float64\n",
      " 46  num_25  800000 non-null  float64\n",
      " 47  num_26  800000 non-null  float64\n",
      " 48  num_27  800000 non-null  float64\n",
      " 49  num_28  800000 non-null  float64\n",
      " 50  num_29  800000 non-null  float64\n",
      " 51  num_30  800000 non-null  float64\n",
      " 52  num_31  800000 non-null  float64\n",
      " 53  num_32  800000 non-null  float64\n",
      " 54  num_33  800000 non-null  float64\n",
      " 55  num_34  800000 non-null  float64\n",
      " 56  num_35  800000 non-null  float64\n",
      " 57  num_36  800000 non-null  float64\n",
      " 58  num_37  800000 non-null  float64\n",
      " 59  target  800000 non-null  float64\n",
      "dtypes: float64(38), int64(22)\n",
      "memory usage: 366.2 MB\n"
     ]
    }
   ],
   "source": [
    "data.info()"
   ]
  },
  {
   "cell_type": "code",
   "execution_count": 5,
   "id": "ac73b10b",
   "metadata": {},
   "outputs": [
    {
     "name": "stdout",
     "output_type": "stream",
     "text": [
      "(800000, 60)\n"
     ]
    }
   ],
   "source": [
    "print(data.shape)"
   ]
  },
  {
   "cell_type": "code",
   "execution_count": 6,
   "id": "3509efa1",
   "metadata": {},
   "outputs": [
    {
     "data": {
      "text/plain": [
       "0         1\n",
       "533350    1\n",
       "533328    1\n",
       "533329    1\n",
       "533330    1\n",
       "         ..\n",
       "266668    1\n",
       "266669    1\n",
       "266670    1\n",
       "266671    1\n",
       "799999    1\n",
       "Name: id, Length: 800000, dtype: int64"
      ]
     },
     "execution_count": 6,
     "metadata": {},
     "output_type": "execute_result"
    }
   ],
   "source": [
    "data.id.value_counts()"
   ]
  },
  {
   "cell_type": "code",
   "execution_count": 7,
   "id": "1720f44c",
   "metadata": {},
   "outputs": [
    {
     "data": {
      "text/plain": [
       "id        800000\n",
       "cat_0         31\n",
       "cat_1        358\n",
       "cat_2         10\n",
       "cat_3          5\n",
       "cat_4          5\n",
       "cat_5          2\n",
       "cat_6         12\n",
       "cat_7          6\n",
       "cat_8          4\n",
       "cat_9         14\n",
       "cat_10         3\n",
       "cat_11         7\n",
       "cat_12    110007\n",
       "cat_13         2\n",
       "cat_14         2\n",
       "cat_15         2\n",
       "cat_16         2\n",
       "cat_17         2\n",
       "cat_18         2\n",
       "cat_19         2\n",
       "num_0        286\n",
       "num_1     600809\n",
       "num_2     789644\n",
       "num_3     292033\n",
       "num_4     222325\n",
       "num_5         43\n",
       "num_6     196100\n",
       "num_7     195694\n",
       "num_8     198552\n",
       "num_9     183955\n",
       "num_10    184374\n",
       "num_11    165778\n",
       "num_12     37021\n",
       "num_13     10355\n",
       "num_14        17\n",
       "num_15     54540\n",
       "num_16      6256\n",
       "num_17     18766\n",
       "num_18     74077\n",
       "num_19     95578\n",
       "num_20      7293\n",
       "num_21    114271\n",
       "num_22    150896\n",
       "num_23     19728\n",
       "num_24       204\n",
       "num_25     90267\n",
       "num_26    110779\n",
       "num_27    125058\n",
       "num_28     13780\n",
       "num_29    160612\n",
       "num_30    166238\n",
       "num_31    156442\n",
       "num_32    124670\n",
       "num_33    100591\n",
       "num_34      1519\n",
       "num_35    310357\n",
       "num_36    625131\n",
       "num_37    176730\n",
       "target         2\n",
       "dtype: int64"
      ]
     },
     "execution_count": 7,
     "metadata": {},
     "output_type": "execute_result"
    }
   ],
   "source": [
    "data.nunique()"
   ]
  },
  {
   "cell_type": "code",
   "execution_count": 8,
   "id": "78d31e84",
   "metadata": {},
   "outputs": [
    {
     "name": "stdout",
     "output_type": "stream",
     "text": [
      "Index(['id', 'cat_0', 'cat_1', 'cat_2', 'cat_3', 'cat_4', 'cat_5', 'cat_6',\n",
      "       'cat_7', 'cat_8', 'cat_9', 'cat_10', 'cat_11', 'cat_12', 'cat_13',\n",
      "       'cat_14', 'cat_15', 'cat_16', 'cat_17', 'cat_18', 'cat_19', 'num_0',\n",
      "       'num_1', 'num_2', 'num_3', 'num_4', 'num_5', 'num_6', 'num_7', 'num_8',\n",
      "       'num_9', 'num_10', 'num_11', 'num_12', 'num_13', 'num_14', 'num_15',\n",
      "       'num_16', 'num_17', 'num_18', 'num_19', 'num_20', 'num_21', 'num_22',\n",
      "       'num_23', 'num_24', 'num_25', 'num_26', 'num_27', 'num_28', 'num_29',\n",
      "       'num_30', 'num_31', 'num_32', 'num_33', 'num_34', 'num_35', 'num_36',\n",
      "       'num_37', 'target'],\n",
      "      dtype='object')\n"
     ]
    }
   ],
   "source": [
    "keys=data.keys()\n",
    "print(keys)\n"
   ]
  },
  {
   "cell_type": "code",
   "execution_count": 9,
   "id": "06af3a82",
   "metadata": {},
   "outputs": [
    {
     "name": "stdout",
     "output_type": "stream",
     "text": [
      "789400\n",
      "10600\n",
      "11841\n"
     ]
    }
   ],
   "source": [
    "neagtive_ = data[data['target']==0.0]\n",
    "print(len(neagtive_))\n",
    "positive = data[data['target']==1.0]\n",
    "print(len(positive))\n",
    "neagtive = neagtive_.sample(frac=0.015)###减少负样本\n",
    "print(len(neagtive))\n",
    "data_set = pd.concat([neagtive, positive], axis=0)#叠加正负样本\n",
    "data_set = data_set.sample(frac=1)#打乱正负样本"
   ]
  },
  {
   "cell_type": "code",
   "execution_count": 10,
   "id": "377a93d9",
   "metadata": {},
   "outputs": [],
   "source": [
    "from sklearn.model_selection import train_test_split\n",
    "from sklearn.metrics import classification_report"
   ]
  },
  {
   "cell_type": "code",
   "execution_count": 11,
   "id": "fe926342",
   "metadata": {},
   "outputs": [
    {
     "name": "stdout",
     "output_type": "stream",
     "text": [
      "(22441, 38) (22441,)\n"
     ]
    }
   ],
   "source": [
    "array=data_set.values\n",
    "X=array[:,21:59]\n",
    "y=array[:,59]\n",
    "print(X.shape,y.shape)"
   ]
  },
  {
   "cell_type": "code",
   "execution_count": 12,
   "id": "cb1ab67b",
   "metadata": {},
   "outputs": [],
   "source": [
    "validation_size = 0.2\n",
    "seed = 7\n",
    "X_train,X_validation,y_train,y_validation = train_test_split(X,y,test_size=validation_size,random_state=seed)"
   ]
  },
  {
   "cell_type": "code",
   "execution_count": 13,
   "id": "caf51ec4",
   "metadata": {},
   "outputs": [
    {
     "name": "stdout",
     "output_type": "stream",
     "text": [
      "              precision    recall  f1-score   support\n",
      "\n",
      "         0.0       0.74      0.73      0.73      2388\n",
      "         1.0       0.70      0.70      0.70      2101\n",
      "\n",
      "    accuracy                           0.72      4489\n",
      "   macro avg       0.72      0.72      0.72      4489\n",
      "weighted avg       0.72      0.72      0.72      4489\n",
      "\n"
     ]
    }
   ],
   "source": [
    "model1 = LogisticRegression(solver='liblinear',class_weight='balanced')\n",
    "model1.fit(X_train, y_train)\n",
    "pred = model1.predict(X_validation)\n",
    "print(classification_report(y_validation,pred))\n"
   ]
  },
  {
   "cell_type": "code",
   "execution_count": 14,
   "id": "aa1fa8b3",
   "metadata": {},
   "outputs": [],
   "source": [
    "from sklearn.metrics import roc_auc_score"
   ]
  },
  {
   "cell_type": "code",
   "execution_count": 15,
   "id": "d330800c",
   "metadata": {},
   "outputs": [
    {
     "name": "stdout",
     "output_type": "stream",
     "text": [
      "0.7162774247247662\n"
     ]
    }
   ],
   "source": [
    "model1_score=roc_auc_score(y_validation,pred)\n",
    "print(model1_score)"
   ]
  },
  {
   "cell_type": "code",
   "execution_count": 16,
   "id": "cfa2a4e5",
   "metadata": {},
   "outputs": [
    {
     "name": "stdout",
     "output_type": "stream",
     "text": [
      "              precision    recall  f1-score   support\n",
      "\n",
      "         0.0       0.85      0.78      0.81      2388\n",
      "         1.0       0.77      0.84      0.81      2101\n",
      "\n",
      "    accuracy                           0.81      4489\n",
      "   macro avg       0.81      0.81      0.81      4489\n",
      "weighted avg       0.81      0.81      0.81      4489\n",
      "\n"
     ]
    }
   ],
   "source": [
    "model2 = RandomForestClassifier(class_weight='balanced')\n",
    "model2.fit(X_train, y_train)\n",
    "pred = model2.predict(X_validation)\n",
    "print(classification_report(y_validation,pred))"
   ]
  },
  {
   "cell_type": "code",
   "execution_count": 17,
   "id": "30872d06",
   "metadata": {},
   "outputs": [
    {
     "name": "stdout",
     "output_type": "stream",
     "text": [
      "0.8113983370764659\n"
     ]
    }
   ],
   "source": [
    "model2_score=roc_auc_score(y_validation,pred)\n",
    "print(model2_score)"
   ]
  },
  {
   "cell_type": "code",
   "execution_count": 18,
   "id": "4f035be5",
   "metadata": {},
   "outputs": [
    {
     "name": "stdout",
     "output_type": "stream",
     "text": [
      "              precision    recall  f1-score   support\n",
      "\n",
      "         0.0       0.76      0.74      0.75      2388\n",
      "         1.0       0.71      0.73      0.72      2101\n",
      "\n",
      "    accuracy                           0.74      4489\n",
      "   macro avg       0.73      0.74      0.74      4489\n",
      "weighted avg       0.74      0.74      0.74      4489\n",
      "\n"
     ]
    }
   ],
   "source": [
    "model3 = DecisionTreeClassifier()\n",
    "model3.fit(X_train, y_train)\n",
    "pred = model3.predict(X_validation)\n",
    "print(classification_report(y_validation,pred))"
   ]
  },
  {
   "cell_type": "code",
   "execution_count": 19,
   "id": "f5bf9ee7",
   "metadata": {},
   "outputs": [
    {
     "name": "stdout",
     "output_type": "stream",
     "text": [
      "0.7356008983518257\n"
     ]
    }
   ],
   "source": [
    "model3_score=roc_auc_score(y_validation,pred)\n",
    "print(model3_score)"
   ]
  },
  {
   "cell_type": "code",
   "execution_count": 20,
   "id": "8c171c90",
   "metadata": {},
   "outputs": [
    {
     "name": "stdout",
     "output_type": "stream",
     "text": [
      "              precision    recall  f1-score   support\n",
      "\n",
      "         0.0       0.74      0.81      0.77      2388\n",
      "         1.0       0.75      0.67      0.71      2101\n",
      "\n",
      "    accuracy                           0.74      4489\n",
      "   macro avg       0.74      0.74      0.74      4489\n",
      "weighted avg       0.74      0.74      0.74      4489\n",
      "\n"
     ]
    }
   ],
   "source": [
    "model4 = LinearDiscriminantAnalysis()\n",
    "model4.fit(X_train, y_train)\n",
    "pred = model4.predict(X_validation)\n",
    "print(classification_report(y_validation,pred))"
   ]
  },
  {
   "cell_type": "code",
   "execution_count": 21,
   "id": "cab467f6",
   "metadata": {},
   "outputs": [
    {
     "name": "stdout",
     "output_type": "stream",
     "text": [
      "0.7386778211221106\n"
     ]
    }
   ],
   "source": [
    "model4_score=roc_auc_score(y_validation,pred)\n",
    "print(model4_score)"
   ]
  },
  {
   "cell_type": "code",
   "execution_count": 22,
   "id": "84cc0b00",
   "metadata": {},
   "outputs": [
    {
     "name": "stdout",
     "output_type": "stream",
     "text": [
      "              precision    recall  f1-score   support\n",
      "\n",
      "         0.0       0.72      0.64      0.68      2388\n",
      "         1.0       0.63      0.71      0.67      2101\n",
      "\n",
      "    accuracy                           0.67      4489\n",
      "   macro avg       0.68      0.68      0.67      4489\n",
      "weighted avg       0.68      0.67      0.67      4489\n",
      "\n"
     ]
    }
   ],
   "source": [
    "model5 = KNeighborsClassifier(n_neighbors=7)\n",
    "model5.fit(X_train, y_train)\n",
    "pred = model5.predict(X_validation)\n",
    "print(classification_report(y_validation, pred))"
   ]
  },
  {
   "cell_type": "code",
   "execution_count": 23,
   "id": "463cc526",
   "metadata": {},
   "outputs": [
    {
     "name": "stdout",
     "output_type": "stream",
     "text": [
      "0.6762491260044472\n"
     ]
    }
   ],
   "source": [
    "model5_score=roc_auc_score(y_validation,pred)\n",
    "print(model5_score)"
   ]
  },
  {
   "cell_type": "code",
   "execution_count": 32,
   "id": "67e8fa7a",
   "metadata": {},
   "outputs": [
    {
     "name": "stdout",
     "output_type": "stream",
     "text": [
      "              precision    recall  f1-score   support\n",
      "\n",
      "         0.0       0.69      0.62      0.65      2388\n",
      "         1.0       0.61      0.69      0.65      2101\n",
      "\n",
      "    accuracy                           0.65      4489\n",
      "   macro avg       0.65      0.65      0.65      4489\n",
      "weighted avg       0.65      0.65      0.65      4489\n",
      "\n"
     ]
    }
   ],
   "source": [
    "model6 = GaussianNB()\n",
    "model6.fit(X_train, y_train)\n",
    "pred = model6.predict(X_validation)\n",
    "print(classification_report(y_validation,pred))"
   ]
  },
  {
   "cell_type": "code",
   "execution_count": 33,
   "id": "d12fac6d",
   "metadata": {},
   "outputs": [
    {
     "name": "stdout",
     "output_type": "stream",
     "text": [
      "0.6517677830689222\n"
     ]
    }
   ],
   "source": [
    "model6_score=roc_auc_score(y_validation,pred)\n",
    "print(model6_score)"
   ]
  },
  {
   "cell_type": "code",
   "execution_count": 26,
   "id": "b7e3ef1b",
   "metadata": {},
   "outputs": [
    {
     "name": "stdout",
     "output_type": "stream",
     "text": [
      "              precision    recall  f1-score   support\n",
      "\n",
      "         0.0       0.57      0.78      0.66      2388\n",
      "         1.0       0.57      0.32      0.41      2101\n",
      "\n",
      "    accuracy                           0.57      4489\n",
      "   macro avg       0.57      0.55      0.54      4489\n",
      "weighted avg       0.57      0.57      0.54      4489\n",
      "\n"
     ]
    }
   ],
   "source": [
    "model7 = SVC(class_weight='balanced')\n",
    "model7.fit(X_train, y_train)\n",
    "pred = model7.predict(X_validation)\n",
    "print(classification_report(y_validation,pred))"
   ]
  },
  {
   "cell_type": "code",
   "execution_count": 27,
   "id": "dfafb0f5",
   "metadata": {},
   "outputs": [
    {
     "name": "stdout",
     "output_type": "stream",
     "text": [
      "0.5538447034474291\n"
     ]
    }
   ],
   "source": [
    "model7_score=roc_auc_score(y_validation,pred)\n",
    "print(model7_score)"
   ]
  },
  {
   "cell_type": "code",
   "execution_count": null,
   "id": "47bb4319",
   "metadata": {},
   "outputs": [],
   "source": []
  }
 ],
 "metadata": {
  "kernelspec": {
   "display_name": "Python 3 (ipykernel)",
   "language": "python",
   "name": "python3"
  },
  "language_info": {
   "codemirror_mode": {
    "name": "ipython",
    "version": 3
   },
   "file_extension": ".py",
   "mimetype": "text/x-python",
   "name": "python",
   "nbconvert_exporter": "python",
   "pygments_lexer": "ipython3",
   "version": "3.11.4"
  }
 },
 "nbformat": 4,
 "nbformat_minor": 5
}
